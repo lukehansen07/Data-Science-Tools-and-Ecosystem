{
 "cells": [
  {
   "cell_type": "markdown",
   "id": "3d9b8460-482f-450d-b823-9f8c9ddad6f0",
   "metadata": {},
   "source": [
    "# Data Science Tools and Ecosystem "
   ]
  },
  {
   "cell_type": "markdown",
   "id": "3a084cf8-0d65-48a8-be74-532028029748",
   "metadata": {},
   "source": [
    "In this notebook, Data Science Tools and Ecosystems are summarized. "
   ]
  },
  {
   "cell_type": "markdown",
   "id": "9db48e52-03c1-4101-b492-bd8f157bcb97",
   "metadata": {},
   "source": [
    "**Objectives:**\n",
    "* List popular languages for Data Science \n",
    "* List commonly used libraries for Data Science\n",
    "* Use Markdown cells in Jupyter Notebook\n",
    "* Create table listing Data Science tools\n",
    "* Create Code cells using arithmetic expressions"
   ]
  },
  {
   "cell_type": "markdown",
   "id": "908492c6-5db1-4aae-90d4-513cf7226956",
   "metadata": {},
   "source": [
    "Some of the popular languages that Data Scientists use are: \n",
    "1. Python\n",
    "2. R\n",
    "3. SQL\n",
    "4. Java\n",
    "5. Julia "
   ]
  },
  {
   "cell_type": "markdown",
   "id": "d99846df-e9e0-4d0d-b5c9-24a72525d2d5",
   "metadata": {},
   "source": [
    "Some of the commonly used libraries used by Data Scientists include: \n",
    "1. NumPy\n",
    "2. Pandas\n",
    "3. Matplotlib\n",
    "4. Plotly\n",
    "5. SciPy "
   ]
  },
  {
   "cell_type": "markdown",
   "id": "37d023d2-421c-4992-bfae-2c071b2bd262",
   "metadata": {},
   "source": [
    "Data Science Tools | \n",
    " ------------- | \n",
    " RStudio \n",
    " Apache Spark \n",
    " TensorFlow "
   ]
  },
  {
   "cell_type": "markdown",
   "id": "6a4d3960-b3df-4f50-b4db-f140bf1ddc8e",
   "metadata": {},
   "source": [
    "### Below are a few examples of evaluating arithmetic expressions in Python. "
   ]
  },
  {
   "cell_type": "code",
   "execution_count": 2,
   "id": "0ac45ddd-a94f-47e7-b56e-71ae83bcde18",
   "metadata": {},
   "outputs": [
    {
     "data": {
      "text/plain": [
       "17"
      ]
     },
     "execution_count": 2,
     "metadata": {},
     "output_type": "execute_result"
    }
   ],
   "source": [
    "# This is a simple arithmetic expression to multiply then add integers\n",
    "(3*4)+5"
   ]
  },
  {
   "cell_type": "code",
   "execution_count": 4,
   "id": "e365ecf1-fb6d-4dec-9e0c-20e4968d59ac",
   "metadata": {},
   "outputs": [
    {
     "data": {
      "text/plain": [
       "3.3333333333333335"
      ]
     },
     "execution_count": 4,
     "metadata": {},
     "output_type": "execute_result"
    }
   ],
   "source": [
    "# This will convert 200 minutes to hours by dividing by 60 \n",
    "200/60 "
   ]
  },
  {
   "cell_type": "markdown",
   "id": "25f90a3a-df21-40da-b358-cbcd58bb904d",
   "metadata": {},
   "source": [
    "## Author \n",
    "Luke Hansen "
   ]
  },
  {
   "cell_type": "code",
   "execution_count": null,
   "id": "2dd00603-eeac-47dc-9c59-b81bb8829c2b",
   "metadata": {},
   "outputs": [],
   "source": []
  }
 ],
 "metadata": {
  "kernelspec": {
   "display_name": "Python 3 (ipykernel)",
   "language": "python",
   "name": "python3"
  },
  "language_info": {
   "codemirror_mode": {
    "name": "ipython",
    "version": 3
   },
   "file_extension": ".py",
   "mimetype": "text/x-python",
   "name": "python",
   "nbconvert_exporter": "python",
   "pygments_lexer": "ipython3",
   "version": "3.8.2"
  }
 },
 "nbformat": 4,
 "nbformat_minor": 5
}
